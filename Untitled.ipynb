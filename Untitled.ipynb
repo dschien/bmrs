{
 "cells": [
  {
   "cell_type": "code",
   "execution_count": 4,
   "metadata": {},
   "outputs": [],
   "source": [
    "#! /usr/bin/env python\n",
    "import httplib2\n",
    "# These aren't needed, just for this example\n",
    "from pprint import pformat\n",
    "\n",
    "import untangle\n",
    "from urllib.parse import quote\n",
    "\n",
    "from everett.ext.yamlfile import ConfigYamlEnv\n",
    "from everett.manager import ConfigManager\n",
    "\n",
    "config = ConfigManager([\n",
    "    ConfigYamlEnv('local_config.yaml'),\n",
    "])\n",
    "\n",
    "def post_elexon(url):\n",
    "    http_obj = httplib2.Http()\n",
    "    resp, content = http_obj.request(\n",
    "        uri=url,\n",
    "        method='GET',\n",
    "        headers={'Content-Type': 'application/xml; charset=UTF-8'},\n",
    "    )\n",
    "    print('===Response===')\n",
    "\n",
    "    print(pformat(resp))\n",
    "    print('===Content===')\n",
    "\n",
    "    print(content.decode(\"utf-8\"))\n",
    "\n",
    "    # obj = untangle.parse(content.decode(\"utf-8\"))\n",
    "    # print(obj.response.responseBody)\n",
    "\n",
    "    print('===Finished===')"
   ]
  },
  {
   "cell_type": "code",
   "execution_count": null,
   "metadata": {},
   "outputs": [],
   "source": [
    "YOUR_API_KEY_HERE = config('BMRS_API_KEY')\n",
    "# post_elexon(\n",
    "#     url=f'https://api.bmreports.com/BMRS/B1770/v1?APIKey={YOUR_API_KEY_HERE}&SettlementDate=2019-01-01&Period=1&ServiceType=xml',\n",
    "# )\n",
    "FromDate = quote('2019-01-01 00:00:00')\n",
    "ToDate = quote('2019-01-02 00:00:00')\n",
    "resptype = 'csv' # <xml/XML/csv/CSV>\n",
    "post_elexon(\n",
    "#     url=f'https://api.bmreports.com/BMRS/ROLSYSDEM/v1?APIKey={YOUR_API_KEY_HERE}&ServiceType={resptype}',\n",
    "    url=f'https://api.bmreports.com/BMRS/ROLSYSDEM/v1?APIKey={YOUR_API_KEY_HERE}&FromDate={FromDate}&ToDate={ToDate}&ServiceType={resptype}',\n",
    ")\n",
    "\n"
   ]
  },
  {
   "cell_type": "code",
   "execution_count": null,
   "metadata": {},
   "outputs": [],
   "source": []
  }
 ],
 "metadata": {
  "kernelspec": {
   "display_name": "Python 3",
   "language": "python",
   "name": "python3"
  },
  "language_info": {
   "codemirror_mode": {
    "name": "ipython",
    "version": 3
   },
   "file_extension": ".py",
   "mimetype": "text/x-python",
   "name": "python",
   "nbconvert_exporter": "python",
   "pygments_lexer": "ipython3",
   "version": "3.7.0"
  }
 },
 "nbformat": 4,
 "nbformat_minor": 2
}
